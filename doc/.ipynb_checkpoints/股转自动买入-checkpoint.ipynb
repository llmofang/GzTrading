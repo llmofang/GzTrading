{
 "cells": [
  {
   "cell_type": "code",
   "execution_count": 1,
   "metadata": {
    "collapsed": true
   },
   "outputs": [],
   "source": [
    "import pyautogui"
   ]
  },
  {
   "cell_type": "code",
   "execution_count": 8,
   "metadata": {
    "collapsed": false
   },
   "outputs": [],
   "source": [
    "from winguiauto import *"
   ]
  },
  {
   "cell_type": "code",
   "execution_count": 6,
   "metadata": {
    "collapsed": true
   },
   "outputs": [],
   "source": [
    "hwnd_parent = findSpecifiedTopWindow(u'网上股票交易系统5.0')"
   ]
  },
  {
   "cell_type": "code",
   "execution_count": 7,
   "metadata": {
    "collapsed": false
   },
   "outputs": [
    {
     "data": {
      "text/plain": [
       "133584L"
      ]
     },
     "execution_count": 7,
     "metadata": {},
     "output_type": "execute_result"
    }
   ],
   "source": [
    "hwnd_parent"
   ]
  },
  {
   "cell_type": "code",
   "execution_count": 8,
   "metadata": {
    "collapsed": true
   },
   "outputs": [],
   "source": [
    "hwnd_child1 = dumpSpecifiedWindow(hwnd_parent, wantedClass='AfxMDIFrame42s')"
   ]
  },
  {
   "cell_type": "code",
   "execution_count": 11,
   "metadata": {
    "collapsed": false
   },
   "outputs": [
    {
     "data": {
      "text/plain": [
       "[198956L]"
      ]
     },
     "execution_count": 11,
     "metadata": {},
     "output_type": "execute_result"
    }
   ],
   "source": [
    "hwnd_child1"
   ]
  },
  {
   "cell_type": "code",
   "execution_count": 12,
   "metadata": {
    "collapsed": true
   },
   "outputs": [],
   "source": [
    "hwnd_child2 = dumpSpecifiedWindow(hwnd_child1[0])"
   ]
  },
  {
   "cell_type": "code",
   "execution_count": 13,
   "metadata": {
    "collapsed": false
   },
   "outputs": [
    {
     "data": {
      "text/plain": [
       "[329984L, 133292L, 1050372L, 396652L, 395886L, 331198L, 526910L, 265722L]"
      ]
     },
     "execution_count": 13,
     "metadata": {},
     "output_type": "execute_result"
    }
   ],
   "source": [
    "hwnd_child2"
   ]
  },
  {
   "cell_type": "code",
   "execution_count": 24,
   "metadata": {
    "collapsed": false
   },
   "outputs": [],
   "source": [
    "hwnd_child3 = dumpSpecifiedWindow(hwnd_child2[5])"
   ]
  },
  {
   "cell_type": "code",
   "execution_count": 25,
   "metadata": {
    "collapsed": false
   },
   "outputs": [
    {
     "data": {
      "text/plain": [
       "62"
      ]
     },
     "execution_count": 25,
     "metadata": {},
     "output_type": "execute_result"
    }
   ],
   "source": [
    "len(hwnd_child3)"
   ]
  },
  {
   "cell_type": "code",
   "execution_count": 26,
   "metadata": {
    "collapsed": false
   },
   "outputs": [
    {
     "data": {
      "text/plain": [
       "[331206L,\n",
       " 331090L,\n",
       " 331172L,\n",
       " 331118L,\n",
       " 331092L,\n",
       " 331202L,\n",
       " 331140L,\n",
       " 461092L,\n",
       " 331100L,\n",
       " 528166L,\n",
       " 330318L,\n",
       " 265738L,\n",
       " 265740L,\n",
       " 265796L,\n",
       " 265792L,\n",
       " 265790L,\n",
       " 265778L,\n",
       " 265780L,\n",
       " 265782L,\n",
       " 265784L,\n",
       " 265786L,\n",
       " 265776L,\n",
       " 265802L,\n",
       " 265680L,\n",
       " 265804L,\n",
       " 396880L,\n",
       " 396884L,\n",
       " 396888L,\n",
       " 396892L,\n",
       " 397092L,\n",
       " 527128L,\n",
       " 397096L,\n",
       " 397088L,\n",
       " 396894L,\n",
       " 396898L,\n",
       " 331592L,\n",
       " 331608L,\n",
       " 396886L,\n",
       " 330348L,\n",
       " 330342L,\n",
       " 330366L,\n",
       " 330258L,\n",
       " 330330L,\n",
       " 330498L,\n",
       " 330382L,\n",
       " 330380L,\n",
       " 330286L,\n",
       " 330304L,\n",
       " 330310L,\n",
       " 265732L,\n",
       " 265736L,\n",
       " 265798L,\n",
       " 397090L,\n",
       " 331588L,\n",
       " 331594L,\n",
       " 331600L,\n",
       " 331604L,\n",
       " 331606L,\n",
       " 331612L,\n",
       " 396896L,\n",
       " 265788L,\n",
       " 330266L]"
      ]
     },
     "execution_count": 26,
     "metadata": {},
     "output_type": "execute_result"
    }
   ],
   "source": [
    "hwnd_child3"
   ]
  },
  {
   "cell_type": "code",
   "execution_count": 58,
   "metadata": {
    "collapsed": true
   },
   "outputs": [],
   "source": [
    "setEditText(hwnd_child3[0], \"832168\") # stockcode"
   ]
  },
  {
   "cell_type": "code",
   "execution_count": 59,
   "metadata": {
    "collapsed": true
   },
   "outputs": [],
   "source": [
    "setEditText(hwnd_child3[3], \"0.1\") # price"
   ]
  },
  {
   "cell_type": "code",
   "execution_count": 60,
   "metadata": {
    "collapsed": true
   },
   "outputs": [],
   "source": [
    "setEditText(hwnd_child3[5], \"1000\") # ammount"
   ]
  },
  {
   "cell_type": "code",
   "execution_count": 61,
   "metadata": {
    "collapsed": true
   },
   "outputs": [],
   "source": [
    "setEditText(hwnd_child3[6], \"9929393\") # 约定号"
   ]
  },
  {
   "cell_type": "code",
   "execution_count": 62,
   "metadata": {
    "collapsed": true
   },
   "outputs": [],
   "source": [
    "setEditText(hwnd_child3[7], \"87654321\") # 对方席位"
   ]
  },
  {
   "cell_type": "code",
   "execution_count": 10,
   "metadata": {
    "collapsed": false
   },
   "outputs": [
    {
     "ename": "NameError",
     "evalue": "name 'getEditText' is not defined",
     "output_type": "error",
     "traceback": [
      "\u001b[1;31m---------------------------------------------------------------------------\u001b[0m",
      "\u001b[1;31mNameError\u001b[0m                                 Traceback (most recent call last)",
      "\u001b[1;32m<ipython-input-10-bef997144ef6>\u001b[0m in \u001b[0;36m<module>\u001b[1;34m()\u001b[0m\n\u001b[1;32m----> 1\u001b[1;33m \u001b[0mgetEditText\u001b[0m\u001b[1;33m(\u001b[0m\u001b[0mhwnd_child3\u001b[0m\u001b[1;33m[\u001b[0m\u001b[1;36m7\u001b[0m\u001b[1;33m]\u001b[0m\u001b[1;33m)\u001b[0m \u001b[1;31m# 对方席位\u001b[0m\u001b[1;33m\u001b[0m\u001b[0m\n\u001b[0m",
      "\u001b[1;31mNameError\u001b[0m: name 'getEditText' is not defined"
     ]
    }
   ],
   "source": [
    "getEditText(hwnd_child3[7]) # 对方席位"
   ]
  },
  {
   "cell_type": "code",
   "execution_count": 64,
   "metadata": {
    "collapsed": true
   },
   "outputs": [],
   "source": [
    "clickButton(hwnd_child3[9])"
   ]
  },
  {
   "cell_type": "code",
   "execution_count": 65,
   "metadata": {
    "collapsed": true
   },
   "outputs": [],
   "source": [
    "hwnd_popup = findPopupWindow(hwnd_parent)"
   ]
  },
  {
   "cell_type": "code",
   "execution_count": 66,
   "metadata": {
    "collapsed": false
   },
   "outputs": [
    {
     "data": {
      "text/plain": [
       "1052382L"
      ]
     },
     "execution_count": 66,
     "metadata": {},
     "output_type": "execute_result"
    }
   ],
   "source": [
    "hwnd_popup"
   ]
  },
  {
   "cell_type": "code",
   "execution_count": 73,
   "metadata": {
    "collapsed": false
   },
   "outputs": [],
   "source": [
    "hwnd_controls = findControls(hwnd_popup, wantedClass='Button')"
   ]
  },
  {
   "cell_type": "code",
   "execution_count": 74,
   "metadata": {
    "collapsed": false
   },
   "outputs": [
    {
     "data": {
      "text/plain": [
       "[1574366L, 1050450L, 984912L, 1705936L]"
      ]
     },
     "execution_count": 74,
     "metadata": {},
     "output_type": "execute_result"
    }
   ],
   "source": [
    "hwnd_controls"
   ]
  },
  {
   "cell_type": "code",
   "execution_count": 75,
   "metadata": {
    "collapsed": true
   },
   "outputs": [],
   "source": [
    "clickButton(hwnd_controls[1])"
   ]
  },
  {
   "cell_type": "code",
   "execution_count": null,
   "metadata": {
    "collapsed": true
   },
   "outputs": [],
   "source": []
  },
  {
   "cell_type": "code",
   "execution_count": 3,
   "metadata": {
    "collapsed": false
   },
   "outputs": [
    {
     "name": "stdout",
     "output_type": "stream",
     "text": [
      "62\n"
     ]
    }
   ],
   "source": [
    "hwnd_parent = findSpecifiedTopWindow(u'网上股票交易系统5.0')\n",
    "hwnd_child1 = dumpSpecifiedWindow(hwnd_parent, wantedClass='AfxMDIFrame42s')\n",
    "hwnd_child2 = dumpSpecifiedWindow(hwnd_child1[0])\n",
    "hwnd_child3 = dumpSpecifiedWindow(hwnd_child2[5])\n",
    "print len(hwnd_child3)"
   ]
  },
  {
   "cell_type": "code",
   "execution_count": 6,
   "metadata": {
    "collapsed": false
   },
   "outputs": [],
   "source": [
    "setEditText(hwnd_child3[0], \"832168\") # stockcode\n",
    "setEditText(hwnd_child3[3], \"0.1\") # price\n",
    "setEditText(hwnd_child3[5], \"1000\") # ammount\n",
    "setEditText(hwnd_child3[6], \"9929393\") # 约定号\n",
    "setEditText(hwnd_child3[7], \"87654321\") # 对方席位\n",
    "clickButton(hwnd_child3[9]) #买入\n",
    "continue_clicked = False\n",
    "while not continue_clicked:\n",
    "    #time.sleep(0.1)\n",
    "    hwnd_popup = findPopupWindow(hwnd_parent)\n",
    "    if hwnd_popup:\n",
    "        hwnd_controls = findControls(hwnd_popup, wantedClass='Button')\n",
    "        clickButton(hwnd_controls[1]) #继续买入\n",
    "        continue_clicked =True"
   ]
  },
  {
   "cell_type": "code",
   "execution_count": null,
   "metadata": {
    "collapsed": true
   },
   "outputs": [],
   "source": []
  },
  {
   "cell_type": "code",
   "execution_count": null,
   "metadata": {
    "collapsed": true
   },
   "outputs": [],
   "source": []
  }
 ],
 "metadata": {
  "kernelspec": {
   "display_name": "Python 2",
   "language": "python",
   "name": "python2"
  },
  "language_info": {
   "codemirror_mode": {
    "name": "ipython",
    "version": 2
   },
   "file_extension": ".py",
   "mimetype": "text/x-python",
   "name": "python",
   "nbconvert_exporter": "python",
   "pygments_lexer": "ipython2",
   "version": "2.7.10"
  }
 },
 "nbformat": 4,
 "nbformat_minor": 0
}
