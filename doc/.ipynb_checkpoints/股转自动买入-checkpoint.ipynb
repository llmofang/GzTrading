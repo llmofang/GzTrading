{
 "cells": [
  {
   "cell_type": "code",
   "execution_count": 1,
   "metadata": {
    "collapsed": true
   },
   "outputs": [],
   "source": [
    "import pyautogui"
   ]
  },
  {
   "cell_type": "code",
   "execution_count": 2,
   "metadata": {
    "collapsed": false
   },
   "outputs": [],
   "source": [
    "from winguiauto import *"
   ]
  },
  {
   "cell_type": "code",
   "execution_count": 71,
   "metadata": {
    "collapsed": true
   },
   "outputs": [],
   "source": [
    "hwnd_parent = findSpecifiedTopWindow(u'网上股票交易系统5.0')"
   ]
  },
  {
   "cell_type": "code",
   "execution_count": 72,
   "metadata": {
    "collapsed": false
   },
   "outputs": [
    {
     "data": {
      "text/plain": [
       "201632L"
      ]
     },
     "execution_count": 72,
     "metadata": {},
     "output_type": "execute_result"
    }
   ],
   "source": [
    "hwnd_parent"
   ]
  },
  {
   "cell_type": "code",
   "execution_count": 23,
   "metadata": {
    "collapsed": true
   },
   "outputs": [],
   "source": [
    "hwnd_child1 = dumpSpecifiedWindow(hwnd_parent, wantedClass='AfxMDIFrame42s')"
   ]
  },
  {
   "cell_type": "code",
   "execution_count": 24,
   "metadata": {
    "collapsed": false
   },
   "outputs": [
    {
     "data": {
      "text/plain": [
       "[1772126L]"
      ]
     },
     "execution_count": 24,
     "metadata": {},
     "output_type": "execute_result"
    }
   ],
   "source": [
    "hwnd_child1"
   ]
  },
  {
   "cell_type": "code",
   "execution_count": 25,
   "metadata": {
    "collapsed": true
   },
   "outputs": [],
   "source": [
    "hwnd_child2 = dumpSpecifiedWindow(hwnd_child1[0])"
   ]
  },
  {
   "cell_type": "code",
   "execution_count": 26,
   "metadata": {
    "collapsed": false
   },
   "outputs": [
    {
     "data": {
      "text/plain": [
       "[395992L, 658094L, 592588L, 134246L, 134248L, 200278L]"
      ]
     },
     "execution_count": 26,
     "metadata": {},
     "output_type": "execute_result"
    }
   ],
   "source": [
    "hwnd_child2"
   ]
  },
  {
   "cell_type": "code",
   "execution_count": 27,
   "metadata": {
    "collapsed": false
   },
   "outputs": [],
   "source": [
    "hwnd_child3 = dumpSpecifiedWindow(hwnd_child2[5])"
   ]
  },
  {
   "cell_type": "code",
   "execution_count": 28,
   "metadata": {
    "collapsed": false
   },
   "outputs": [
    {
     "data": {
      "text/plain": [
       "62"
      ]
     },
     "execution_count": 28,
     "metadata": {},
     "output_type": "execute_result"
    }
   ],
   "source": [
    "len(hwnd_child3)"
   ]
  },
  {
   "cell_type": "code",
   "execution_count": 29,
   "metadata": {
    "collapsed": false
   },
   "outputs": [
    {
     "data": {
      "text/plain": [
       "[134744L,\n",
       " 134738L,\n",
       " 134740L,\n",
       " 69226L,\n",
       " 69228L,\n",
       " 69230L,\n",
       " 69232L,\n",
       " 69234L,\n",
       " 69236L,\n",
       " 69238L,\n",
       " 69240L,\n",
       " 69242L,\n",
       " 69244L,\n",
       " 69246L,\n",
       " 69248L,\n",
       " 69250L,\n",
       " 69252L,\n",
       " 69254L,\n",
       " 69256L,\n",
       " 69258L,\n",
       " 69260L,\n",
       " 69262L,\n",
       " 69264L,\n",
       " 69266L,\n",
       " 69268L,\n",
       " 69270L,\n",
       " 69272L,\n",
       " 69274L,\n",
       " 69276L,\n",
       " 69278L,\n",
       " 69280L,\n",
       " 69282L,\n",
       " 69284L,\n",
       " 69286L,\n",
       " 69288L,\n",
       " 69290L,\n",
       " 69292L,\n",
       " 69294L,\n",
       " 69298L,\n",
       " 69300L,\n",
       " 69302L,\n",
       " 69304L,\n",
       " 69306L,\n",
       " 69308L,\n",
       " 69310L,\n",
       " 69314L,\n",
       " 69316L,\n",
       " 69318L,\n",
       " 69320L,\n",
       " 69324L,\n",
       " 69326L,\n",
       " 69328L,\n",
       " 69330L,\n",
       " 69332L,\n",
       " 69334L,\n",
       " 69336L,\n",
       " 69338L,\n",
       " 69340L,\n",
       " 69342L,\n",
       " 69344L,\n",
       " 69348L,\n",
       " 69476L]"
      ]
     },
     "execution_count": 29,
     "metadata": {},
     "output_type": "execute_result"
    }
   ],
   "source": [
    "hwnd_child3"
   ]
  },
  {
   "cell_type": "code",
   "execution_count": 12,
   "metadata": {
    "collapsed": true
   },
   "outputs": [],
   "source": [
    "setEditText(hwnd_child3[0], \"832168\") # stockcode"
   ]
  },
  {
   "cell_type": "code",
   "execution_count": 13,
   "metadata": {
    "collapsed": true
   },
   "outputs": [],
   "source": [
    "setEditText(hwnd_child3[3], \"0.1\") # price"
   ]
  },
  {
   "cell_type": "code",
   "execution_count": 14,
   "metadata": {
    "collapsed": true
   },
   "outputs": [],
   "source": [
    "setEditText(hwnd_child3[5], \"1000\") # ammount"
   ]
  },
  {
   "cell_type": "code",
   "execution_count": 15,
   "metadata": {
    "collapsed": true
   },
   "outputs": [],
   "source": [
    "setEditText(hwnd_child3[6], \"9929393\") # 约定号"
   ]
  },
  {
   "cell_type": "code",
   "execution_count": 4,
   "metadata": {
    "collapsed": true
   },
   "outputs": [],
   "source": [
    "setEditText(hwnd_child3[7], \"87654321\") # 对方席位"
   ]
  },
  {
   "cell_type": "code",
   "execution_count": 17,
   "metadata": {
    "collapsed": false
   },
   "outputs": [
    {
     "name": "stdout",
     "output_type": "stream",
     "text": [
      "9\n"
     ]
    },
    {
     "data": {
      "text/plain": [
       "'87654321\\x00'"
      ]
     },
     "execution_count": 17,
     "metadata": {},
     "output_type": "execute_result"
    }
   ],
   "source": [
    "getEditText(hwnd_child3[7]) # 对方席位"
   ]
  },
  {
   "cell_type": "code",
   "execution_count": null,
   "metadata": {
    "collapsed": true
   },
   "outputs": [],
   "source": [
    "clickButton(hwnd_child3[9])"
   ]
  },
  {
   "cell_type": "code",
   "execution_count": 61,
   "metadata": {
    "collapsed": true
   },
   "outputs": [],
   "source": [
    "hwnd_popup = findPopupWindow(hwnd_parent)"
   ]
  },
  {
   "cell_type": "code",
   "execution_count": 62,
   "metadata": {
    "collapsed": false
   },
   "outputs": [
    {
     "data": {
      "text/plain": [
       "461634L"
      ]
     },
     "execution_count": 62,
     "metadata": {},
     "output_type": "execute_result"
    }
   ],
   "source": [
    "hwnd_popup"
   ]
  },
  {
   "cell_type": "code",
   "execution_count": 63,
   "metadata": {
    "collapsed": false
   },
   "outputs": [],
   "source": [
    "hwnd_controls = findControls(hwnd_popup, wantedClass='Button')"
   ]
  },
  {
   "cell_type": "code",
   "execution_count": 64,
   "metadata": {
    "collapsed": false
   },
   "outputs": [
    {
     "data": {
      "text/plain": [
       "[527176L, 527196L, 527166L, 527160L]"
      ]
     },
     "execution_count": 64,
     "metadata": {},
     "output_type": "execute_result"
    }
   ],
   "source": [
    "hwnd_controls"
   ]
  },
  {
   "cell_type": "code",
   "execution_count": 50,
   "metadata": {
    "collapsed": true
   },
   "outputs": [],
   "source": [
    "clickButton(hwnd_controls[0])"
   ]
  },
  {
   "cell_type": "code",
   "execution_count": null,
   "metadata": {
    "collapsed": true
   },
   "outputs": [],
   "source": []
  },
  {
   "cell_type": "code",
   "execution_count": 76,
   "metadata": {
    "collapsed": false
   },
   "outputs": [
    {
     "name": "stdout",
     "output_type": "stream",
     "text": [
      "62\n"
     ]
    }
   ],
   "source": [
    "hwnd_parent = findSpecifiedTopWindow(u'网上股票交易系统5.0')\n",
    "hwnd_child1 = dumpSpecifiedWindow(hwnd_parent, wantedClass='AfxMDIFrame42s')\n",
    "hwnd_child2 = dumpSpecifiedWindow(hwnd_child1[0])\n",
    "hwnd_child3 = dumpSpecifiedWindow(hwnd_child2[5])\n",
    "print len(hwnd_child3)"
   ]
  },
  {
   "cell_type": "code",
   "execution_count": 77,
   "metadata": {
    "collapsed": true
   },
   "outputs": [],
   "source": [
    "setEditText(hwnd_child3[0], \"832168\") # stockcode\n",
    "setEditText(hwnd_child3[3], \"0.1\") # price\n",
    "setEditText(hwnd_child3[5], \"1000\") # ammount\n",
    "setEditText(hwnd_child3[6], \"9929393\") # 约定号\n",
    "setEditText(hwnd_child3[7], \"87654321\") # 对方席位\n",
    "clickButton(hwnd_child3[9]) #买入"
   ]
  },
  {
   "cell_type": "code",
   "execution_count": 78,
   "metadata": {
    "collapsed": false
   },
   "outputs": [],
   "source": [
    "continue_clicked = False\n",
    "while not continue_clicked:\n",
    "    #time.sleep(0.1)\n",
    "    hwnd_popup = findPopupWindow(hwnd_parent)\n",
    "    if hwnd_popup:\n",
    "        hwnd_controls = findControls(hwnd_popup, wantedClass='Button')\n",
    "        clickButton(hwnd_controls[1]) #继续买入\n",
    "        continue_clicked =True"
   ]
  },
  {
   "cell_type": "code",
   "execution_count": 9,
   "metadata": {
    "collapsed": false
   },
   "outputs": [
    {
     "name": "stdout",
     "output_type": "stream",
     "text": [
      "8\n"
     ]
    }
   ],
   "source": [
    "string = getEditText(hwnd_child3[9]) #买入"
   ]
  },
  {
   "cell_type": "code",
   "execution_count": 10,
   "metadata": {
    "collapsed": false
   },
   "outputs": [
    {
     "name": "stdout",
     "output_type": "stream",
     "text": [
      "����[B]\u0000\n"
     ]
    }
   ],
   "source": [
    "print string"
   ]
  },
  {
   "cell_type": "code",
   "execution_count": null,
   "metadata": {
    "collapsed": true
   },
   "outputs": [],
   "source": []
  }
 ],
 "metadata": {
  "kernelspec": {
   "display_name": "Python 2",
   "language": "python",
   "name": "python2"
  },
  "language_info": {
   "codemirror_mode": {
    "name": "ipython",
    "version": 2
   },
   "file_extension": ".py",
   "mimetype": "text/x-python",
   "name": "python",
   "nbconvert_exporter": "python",
   "pygments_lexer": "ipython2",
   "version": "2.7.10"
  }
 },
 "nbformat": 4,
 "nbformat_minor": 0
}
